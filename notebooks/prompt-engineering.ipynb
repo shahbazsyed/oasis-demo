{
 "cells": [
  {
   "cell_type": "code",
   "execution_count": null,
   "metadata": {},
   "outputs": [],
   "source": [
    "import dotenv\n",
    "import openai\n",
    "config = dotenv.dotenv_values(\"../.env\")\n",
    "openai.api_key = config['OPENAI_API_KEY']\n",
    "\n",
    "import random\n",
    "import pandas as pd\n",
    "pd.set_option('display.max_colwidth', None)\n",
    "from tqdm import tqdm\n",
    "tqdm.pandas()\n",
    "\n",
    "import json"
   ]
  },
  {
   "cell_type": "code",
   "execution_count": null,
   "metadata": {},
   "outputs": [],
   "source": [
    "df = pd.read_csv(\"../data/appropriateness-corpus/inappropriate_with_reasons_conservative_long.csv\")"
   ]
  },
  {
   "cell_type": "code",
   "execution_count": null,
   "metadata": {},
   "outputs": [],
   "source": [
    "df.count()"
   ]
  },
  {
   "cell_type": "code",
   "execution_count": null,
   "metadata": {},
   "outputs": [],
   "source": [
    "arguments = df['argument'].tolist()"
   ]
  },
  {
   "cell_type": "code",
   "execution_count": null,
   "metadata": {},
   "outputs": [],
   "source": [
    "sample = random.choice(arguments)\n",
    "print(sample)"
   ]
  },
  {
   "cell_type": "code",
   "execution_count": null,
   "metadata": {},
   "outputs": [],
   "source": [
    "sub_df = df[['issue', 'argument', 'Reasons', 'word_count']]"
   ]
  },
  {
   "cell_type": "code",
   "execution_count": null,
   "metadata": {},
   "outputs": [],
   "source": [
    "sub_df.sample(4)"
   ]
  },
  {
   "cell_type": "code",
   "execution_count": null,
   "metadata": {},
   "outputs": [],
   "source": [
    "topic = \"Why is prostitution illegal? is it just for moral reasons?\""
   ]
  },
  {
   "cell_type": "code",
   "execution_count": null,
   "metadata": {},
   "outputs": [],
   "source": [
    "argument = \"\"\"\n",
    "Well, it's certainly not going away anytime soon is it? Ironically enough in our ultra-capitalist society, you can give sex away for free, but you can't sell it.\\r\\n\\r\\nYes, primarily it's for moral reasons. There are arguments made about health risks, but a regulated industry with check-ups and the like would be arguably safer than the drug and disease ridden industry as it now stands.\\r\\n\\r\\nBasically, I think it comes down to the fact that few people want to put society's \"stamp of approval\" on it. Would anyone want their daughter to consider it \"just a job\" or an easy way to get some quick cash? Or would they want their husbands to be able to find no-hassle sex whenever they had some extra cash? How about the thought of your father casually going to a brothel after work? Some might not have a problem with these ideas, but most people would feel otherwise.\n",
    "\"\"\""
   ]
  },
  {
   "cell_type": "code",
   "execution_count": null,
   "metadata": {},
   "outputs": [],
   "source": [
    "topic = \"Why is prostitution illegal? is it just for moral reasons?\"\n",
    "argument = \"\"\"\n",
    "Well, it's certainly not going away anytime soon is it? Ironically enough in our ultra-capitalist society, you can give sex away for free, but you can't sell it.\n",
    "\n",
    "Yes, primarily it's for moral reasons. There are arguments made about health risks, but a regulated industry with check-ups and the like would be arguably safer than the drug and disease ridden industry as it now stands.\n",
    "\n",
    "Basically, I think it comes down to the fact that few people want to put society's \"stamp of approval\" on it. Would anyone want their daughter to consider it \"just a job\" or an easy way to get some quick cash? Or would they want their husbands to be able to find no-hassle sex whenever they had some extra cash? How about the thought of your father casually going to a brothel after work? Some might not have a problem with these ideas, but most people would feel otherwise.\n",
    "\"\"\"\n"
   ]
  },
  {
   "cell_type": "code",
   "execution_count": null,
   "metadata": {},
   "outputs": [],
   "source": [
    "response_schema = {\n",
    "    \"type\": \"object\",\n",
    "    \"properties\": {\n",
    "        \"original_argument\": {\"type\": \"string\", \"description\": \"The original argument from the user\"},\n",
    "        \"topic\": {\"type\": \"string\", \"description\": \"The topic of the argument\"},\n",
    "        \"transformed_argument\": {\"type\": \"string\", \"description\": \"The transformed argument\"},\n",
    "        \"reasons\": {\"type\": \"array\", \"description\": \"The reasons for the transformation\"},\n",
    "}\n",
    "}"
   ]
  },
  {
   "cell_type": "code",
   "execution_count": null,
   "metadata": {},
   "outputs": [],
   "source": [
    "schema = {\n",
    "  \"type\": \"object\",\n",
    "  \"properties\": {\n",
    "    \"ingredients\": {\n",
    "      \"type\": \"array\",\n",
    "      \"items\": {\n",
    "        \"type\": \"object\",\n",
    "        \"properties\": {\n",
    "          \"name\": { \"type\": \"string\" },\n",
    "          \"unit\": { \n",
    "            \"type\": \"string\",\n",
    "            \"enum\": [\"grams\", \"ml\", \"cups\", \"pieces\", \"teaspoons\"]\n",
    "          },\n",
    "          \"amount\": { \"type\": \"number\" }\n",
    "        },\n",
    "        \"required\": [\"name\", \"unit\", \"amount\"]\n",
    "      }\n",
    "    },\n",
    "    \"instructions\": {\n",
    "      \"type\": \"array\",\n",
    "      \"description\": \"Steps to prepare the recipe (no numbering)\",\n",
    "      \"items\": { \"type\": \"string\" }\n",
    "    },\n",
    "    \"time_to_cook\": {\n",
    "      \"type\": \"number\",\n",
    "      \"description\": \"Total time to prepare the recipe in minutes\"\n",
    "    }\n",
    "  },\n",
    "  \"required\": [\"ingredients\", \"instructions\", \"time_to_cook\"]\n",
    "}"
   ]
  },
  {
   "cell_type": "code",
   "execution_count": null,
   "metadata": {},
   "outputs": [],
   "source": [
    "response_schema = {\n",
    "    \"type\": \"object\",\n",
    "    \"properties\": {\n",
    "        \"original_argument\": {\"type\": \"string\", \"description\": \"The original argument from the user\"},\n",
    "        \"topic\": {\"type\": \"string\", \"description\": \"The topic of the argument\"},\n",
    "        \"transformed_argument\": {\"type\": \"string\", \"description\": \"The transformed argument\"},\n",
    "        \"reasons\": {\"type\": \"array\", \"description\": \"The reasons for the transformation\", \"items\": {\"type\": \"string\"}},\n",
    "        \"transformations\": {\"type\": \"array\", \"description\": \"The tuples of original text spans, their transformations, and the action taken to transform them.\", \"items\": {\"type\": \"object\", \"properties\": {\n",
    "            \"original_text\": {\"type\": \"string\", \"description\": \"The original text span\"},\n",
    "            \"transformed_text\": {\"type\": \"string\", \"description\": \"The transformed text span\"},\n",
    "            \"action\": {\"type\": \"string\", \"description\": \"The action taken to transform the text span\"},\n",
    "        }}}\n",
    "    },\n",
    "    \"required\": [\"original_argument\", \"topic\", \"transformed_argument\", \"reasons\", \"transformations\"]\n",
    "}"
   ]
  },
  {
   "cell_type": "code",
   "execution_count": null,
   "metadata": {},
   "outputs": [],
   "source": [
    "# Define a prompt for a debate where the system is an expert debater\n",
    "debate_prompt = f\"\"\"\n",
    "You are participating in a formal debate on the topic of \"{topic}\". You are an expert debater, and your task is to check if a given user's argument is appropriate to be presented in a civil debate. \n",
    "\n",
    "If yes, do nothing and return it. If not, then convert it into an appropriate argument and provide reasons for your conversion. The reasons should be a list of short descriptive phrases. Also return the list of transformations corresponding to each span in the user's argument in the form ('original','transformed', 'action') where 'action' describes in natural language the transformation that you applied.\n",
    "\n",
    "Next, check if the actions match the reasons. If they do not, adjust your actions to match the reasons and update the list of transformations accordingly.\n",
    "\n",
    "Please ensure that the semantics of the transformed argument must be very similar to the original one, albeit with small changes to make it appropriate. The transformed argument should be grammatically correct and should not contain any spelling mistakes or facts that cannot be verified against the original argument. The transformed argument should be relevant to the topic of the debate and should be approximately of length 100. \n",
    "\n",
    "User's argument: \"\n",
    "{argument}\n",
    "\"\n",
    "\"\"\""
   ]
  },
  {
   "cell_type": "code",
   "execution_count": null,
   "metadata": {},
   "outputs": [],
   "source": [
    "debate_prompt"
   ]
  },
  {
   "cell_type": "code",
   "execution_count": null,
   "metadata": {},
   "outputs": [],
   "source": [
    "system_message = {\"role\": \"system\", \"content\": debate_prompt}"
   ]
  },
  {
   "cell_type": "code",
   "execution_count": null,
   "metadata": {},
   "outputs": [],
   "source": [
    "completion = openai.ChatCompletion.create(\n",
    "  model=\"gpt-4\",\n",
    "  messages=[\n",
    "    system_message,\n",
    "    #{\"role\": \"user\", \"content\": argument}\n",
    "  ],\n",
    "  functions=[{\"name\": \"set_argument\", \"parameters\": response_schema}],\n",
    "  function_call={\"name\": \"set_argument\"},\n",
    "  temperature=0,\n",
    ")"
   ]
  },
  {
   "cell_type": "code",
   "execution_count": null,
   "metadata": {},
   "outputs": [],
   "source": [
    "resp = json.loads(completion.choices[0].message.function_call.arguments)"
   ]
  },
  {
   "cell_type": "code",
   "execution_count": null,
   "metadata": {},
   "outputs": [],
   "source": [
    "for tf in resp['transformations']:\n",
    "    for k,v in tf.items():\n",
    "        print(f\"{k}: {v}\")"
   ]
  },
  {
   "cell_type": "code",
   "execution_count": null,
   "metadata": {},
   "outputs": [],
   "source": [
    "def create_prompt(row):\n",
    "    topic = row['issue']\n",
    "    argument = row['argument']\n",
    "    word_count = int(row['word_count'])\n",
    "    debate_prompt = f\"\"\"\n",
    "    You are participating in a formal debate on the topic of \"{topic}\". You are an expert debater, and your task is to check if a given user's argument is appropriate to be presented in a civil debate. \n",
    "\n",
    "    If yes, do nothing and return it. If not, then convert it into an appropriate argument and provide reasons for your conversion. The reasons should be a list of short descriptive phrases. Also return the list of transformations corresponding to each span in the user's argument in the form ('original','transformed', 'action') where 'action' describes in natural language the transformation that you applied.\n",
    "\n",
    "    Next, check if the actions match the reasons. If they do not, adjust your actions to match the reasons and update the list of transformations accordingly.\n",
    "\n",
    "    Please ensure that the semantics of the transformed argument must be very similar to the original one, albeit with small changes to make it appropriate. The transformed argument should be grammatically correct and should not contain any spelling mistakes or facts that cannot be verified against the original argument. The transformed argument should be relevant to the topic of the debate and should be approximately {word_count} words long. \n",
    "\n",
    "    User's argument: \"\n",
    "    {argument}\n",
    "    \"\n",
    "    \"\"\"\n",
    "    row['prompt'] = debate_prompt\n",
    "    return row"
   ]
  },
  {
   "cell_type": "code",
   "execution_count": null,
   "metadata": {},
   "outputs": [],
   "source": [
    "sub_df = sub_df.progress_apply(create_prompt, axis=1)"
   ]
  },
  {
   "cell_type": "code",
   "execution_count": null,
   "metadata": {},
   "outputs": [],
   "source": [
    "def transform_arguments(row):\n",
    "    row['system_message'] = {\"role\": \"system\", \"content\": row['prompt']}\n",
    "    try:\n",
    "      completion = openai.ChatCompletion.create(\n",
    "        model=\"gpt-4\",\n",
    "        messages=[\n",
    "          row['system_message'],\n",
    "        ],\n",
    "        functions=[{\"name\": \"set_argument\", \"parameters\": response_schema}],\n",
    "        function_call={\"name\": \"set_argument\"},\n",
    "        temperature=0,\n",
    "      )\n",
    "      response_dict = json.loads(completion.choices[0].message.function_call.arguments)\n",
    "    except Exception as e:\n",
    "      print(e)\n",
    "      response_dict = {}\n",
    "    row['llm_response'] = response_dict\n",
    "    return row"
   ]
  },
  {
   "cell_type": "code",
   "execution_count": null,
   "metadata": {},
   "outputs": [],
   "source": [
    "sample = sub_df.sample(5)"
   ]
  },
  {
   "cell_type": "code",
   "execution_count": null,
   "metadata": {},
   "outputs": [],
   "source": [
    "sample = sample.progress_apply(transform_arguments, axis=1)"
   ]
  },
  {
   "cell_type": "code",
   "execution_count": null,
   "metadata": {},
   "outputs": [],
   "source": [
    "# check responses\n",
    "responses = sample['llm_response'].tolist()\n",
    "responses = [r for r in responses if r != {}]\n",
    "print(len(responses))"
   ]
  },
  {
   "cell_type": "code",
   "execution_count": null,
   "metadata": {},
   "outputs": [],
   "source": [
    "# write to a jsonl file\n",
    "with open('../data/gpt4_responses.jsonl', 'w') as outfile:\n",
    "    for entry in responses:\n",
    "        json.dump(entry, outfile)\n",
    "        outfile.write('\\n')"
   ]
  },
  {
   "cell_type": "code",
   "execution_count": null,
   "metadata": {},
   "outputs": [],
   "source": [
    "for resp in responses:\n",
    "    for key, value in resp.items():\n",
    "        print(key.title()+\": \\n\")\n",
    "        print(value)\n",
    "        print('*'*50)\n",
    "        print('\\n')"
   ]
  },
  {
   "cell_type": "code",
   "execution_count": null,
   "metadata": {},
   "outputs": [],
   "source": []
  }
 ],
 "metadata": {
  "kernelspec": {
   "display_name": "oasis",
   "language": "python",
   "name": "python3"
  },
  "language_info": {
   "codemirror_mode": {
    "name": "ipython",
    "version": 3
   },
   "file_extension": ".py",
   "mimetype": "text/x-python",
   "name": "python",
   "nbconvert_exporter": "python",
   "pygments_lexer": "ipython3",
   "version": "3.11.1"
  }
 },
 "nbformat": 4,
 "nbformat_minor": 2
}
