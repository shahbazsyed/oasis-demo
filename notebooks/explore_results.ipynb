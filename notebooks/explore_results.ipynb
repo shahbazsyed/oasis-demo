{
 "cells": [
  {
   "cell_type": "code",
   "execution_count": null,
   "metadata": {},
   "outputs": [],
   "source": [
    "import pandas as pd\n",
    "pd.set_option('display.max_colwidth', None)\n",
    "from tqdm import tqdm\n",
    "tqdm.pandas()\n",
    "from glob import glob\n",
    "import json"
   ]
  },
  {
   "cell_type": "markdown",
   "metadata": {},
   "source": [
    "#### Appropriateness Corpus"
   ]
  },
  {
   "cell_type": "markdown",
   "metadata": {},
   "source": [
    "**Summarization Results**"
   ]
  },
  {
   "cell_type": "code",
   "execution_count": null,
   "metadata": {},
   "outputs": [],
   "source": [
    "documents = []\n",
    "llama_summaries = []\n",
    "bart_summaries = []"
   ]
  },
  {
   "cell_type": "code",
   "execution_count": null,
   "metadata": {},
   "outputs": [],
   "source": [
    "app_df = pd.read_csv('../data/inappropriate_arguments_sample_100_appropriateness.csv')"
   ]
  },
  {
   "cell_type": "code",
   "execution_count": null,
   "metadata": {},
   "outputs": [],
   "source": [
    "llama_df = pd.read_csv('../data/results-by-corpus/appropriateness/summarization/llama.csv', sep=\"\\t\", header=None)\n",
    "llama_df.columns = ['id', 'llama_gist']"
   ]
  },
  {
   "cell_type": "code",
   "execution_count": null,
   "metadata": {},
   "outputs": [],
   "source": [
    "bart_df = pd.read_csv('../data/results-by-corpus/appropriateness/summarization/bart.csv')"
   ]
  },
  {
   "cell_type": "code",
   "execution_count": null,
   "metadata": {},
   "outputs": [],
   "source": [
    "bart_df.count()"
   ]
  },
  {
   "cell_type": "code",
   "execution_count": null,
   "metadata": {},
   "outputs": [],
   "source": [
    "documents = bart_df['argument'].tolist()\n",
    "llama_summaries = llama_df['llama_gist'].tolist()\n",
    "bart_summaries = bart_df['supervised_summary'].tolist()"
   ]
  },
  {
   "cell_type": "code",
   "execution_count": null,
   "metadata": {},
   "outputs": [],
   "source": [
    "len(documents), len(llama_summaries), len(bart_summaries)"
   ]
  },
  {
   "cell_type": "code",
   "execution_count": null,
   "metadata": {},
   "outputs": [],
   "source": [
    "app_summary_records = []\n",
    "for doc, llama, bart in zip(documents, llama_summaries, bart_summaries):\n",
    "    record = {}\n",
    "    record['document'] = doc\n",
    "    record['reference'] = \" \" \n",
    "    record['llama_summary'] = llama\n",
    "    record['bart_summary'] = bart\n",
    "    app_summary_records.append(record)"
   ]
  },
  {
   "cell_type": "code",
   "execution_count": null,
   "metadata": {},
   "outputs": [],
   "source": [
    "len(app_summary_records)"
   ]
  },
  {
   "cell_type": "code",
   "execution_count": null,
   "metadata": {},
   "outputs": [],
   "source": [
    "import json\n",
    "with open(\"../data/results_appropriateness_summarization.jsonl\", \"w\", encoding=\"utf-8\") as outf:\n",
    "    for record in app_summary_records:\n",
    "        outf.write(json.dumps(record) + \"\\n\")\n"
   ]
  },
  {
   "cell_type": "markdown",
   "metadata": {},
   "source": [
    "**Neutralization Results**"
   ]
  },
  {
   "cell_type": "code",
   "execution_count": null,
   "metadata": {},
   "outputs": [],
   "source": [
    "app_df.count()"
   ]
  },
  {
   "cell_type": "code",
   "execution_count": null,
   "metadata": {},
   "outputs": [],
   "source": [
    "references = app_df['argument'].tolist()"
   ]
  },
  {
   "cell_type": "code",
   "execution_count": null,
   "metadata": {},
   "outputs": [],
   "source": [
    "llam_ndf = pd.read_csv('../data/results-by-corpus/appropriateness/neutralization/llama.csv', sep=\"\\t\", header=None)\n",
    "llam_ndf.columns = ['id', 'llama_neutralization']"
   ]
  },
  {
   "cell_type": "code",
   "execution_count": null,
   "metadata": {},
   "outputs": [],
   "source": [
    "llam_ndf.count()"
   ]
  },
  {
   "cell_type": "code",
   "execution_count": null,
   "metadata": {},
   "outputs": [],
   "source": [
    "neutralized = llam_ndf['llama_neutralization'].tolist()"
   ]
  },
  {
   "cell_type": "code",
   "execution_count": null,
   "metadata": {},
   "outputs": [],
   "source": [
    "len(references), len(neutralized)"
   ]
  },
  {
   "cell_type": "code",
   "execution_count": null,
   "metadata": {},
   "outputs": [],
   "source": [
    "records = []\n",
    "for ref, neutral in zip(references, neutralized):\n",
    "    record = {}\n",
    "    record['reference'] = ref\n",
    "    record['neutralized'] = neutral\n",
    "    records.append(record)\n",
    "\n",
    "with open(\"../data/results_appropriateness_neutralization.jsonl\", \"w\", encoding=\"utf-8\") as outf:\n",
    "    for record in records:\n",
    "        outf.write(json.dumps(record) + \"\\n\")"
   ]
  },
  {
   "cell_type": "markdown",
   "metadata": {},
   "source": [
    "**Summarize -> Neutralize (Single prompt)**"
   ]
  },
  {
   "cell_type": "code",
   "execution_count": null,
   "metadata": {},
   "outputs": [],
   "source": [
    "app_df = pd.read_csv('../data/inappropriate_arguments_sample_100_appropriateness.csv')"
   ]
  },
  {
   "cell_type": "code",
   "execution_count": null,
   "metadata": {},
   "outputs": [],
   "source": [
    "documents = app_df['argument'].tolist()"
   ]
  },
  {
   "cell_type": "code",
   "execution_count": null,
   "metadata": {},
   "outputs": [],
   "source": [
    "single_prompt_both_df = pd.read_csv('../data/results-by-corpus/appropriateness/both/llama_extract_rewrite_appropriateness.csv', sep=\"\\t\", header=None)\n",
    "single_prompt_both_df.columns = ['id', 'llama_extract_rewrite']"
   ]
  },
  {
   "cell_type": "code",
   "execution_count": null,
   "metadata": {},
   "outputs": [],
   "source": [
    "gist_neutralize_single_prompt_responses = single_prompt_both_df['llama_extract_rewrite'].tolist()"
   ]
  },
  {
   "cell_type": "markdown",
   "metadata": {},
   "source": [
    "**Summarize -> Neutralize (Individual Prompts)**"
   ]
  },
  {
   "cell_type": "code",
   "execution_count": null,
   "metadata": {},
   "outputs": [],
   "source": [
    "two_prompts_df = pd.read_csv('../data/results-by-corpus/appropriateness/both/llama_extract_then_rewrite_appropriateness.csv', sep=\"\\t\", header=None)\n",
    "two_prompts_df.columns = ['id', 'llama_extract_then_rewrite']"
   ]
  },
  {
   "cell_type": "code",
   "execution_count": null,
   "metadata": {},
   "outputs": [],
   "source": [
    "gist_neutralize_two_prompts_responses = two_prompts_df['llama_extract_then_rewrite'].tolist()"
   ]
  },
  {
   "cell_type": "markdown",
   "metadata": {},
   "source": [
    "**Neutralize -> Summarize (Single Prompt)**"
   ]
  },
  {
   "cell_type": "code",
   "execution_count": null,
   "metadata": {},
   "outputs": [],
   "source": [
    "swap_order_single_prompt_df = pd.read_csv('../data/results-by-corpus/appropriateness/both/llama_rewrite_extract_appropriateness.csv', sep=\"\\t\", header=None)\n",
    "swap_order_single_prompt_df.columns = ['id', 'llama_rewrite_extract']"
   ]
  },
  {
   "cell_type": "code",
   "execution_count": null,
   "metadata": {},
   "outputs": [],
   "source": [
    "neutralize_gist_single_prompt_responses = swap_order_single_prompt_df['llama_rewrite_extract'].tolist()"
   ]
  },
  {
   "cell_type": "markdown",
   "metadata": {},
   "source": [
    "**Neutralize -> Summarize (Individual Prompts)**"
   ]
  },
  {
   "cell_type": "code",
   "execution_count": null,
   "metadata": {},
   "outputs": [],
   "source": [
    "swap_order_two_prompts_df = pd.read_csv('../data/results-by-corpus/appropriateness/both/llama_rewrite_then_extract_appropriateness.csv', sep=\"\\t\", header=None)\n",
    "swap_order_two_prompts_df.columns = ['id', 'llama_rewrite_then_extract']"
   ]
  },
  {
   "cell_type": "code",
   "execution_count": null,
   "metadata": {},
   "outputs": [],
   "source": [
    "neutralize_gist_two_prompts_responses = swap_order_two_prompts_df['llama_rewrite_then_extract'].tolist()"
   ]
  },
  {
   "cell_type": "code",
   "execution_count": null,
   "metadata": {},
   "outputs": [],
   "source": [
    "len(documents), len(gist_neutralize_single_prompt_responses), len(gist_neutralize_two_prompts_responses), len(neutralize_gist_single_prompt_responses), len(neutralize_gist_two_prompts_responses)"
   ]
  },
  {
   "cell_type": "code",
   "execution_count": null,
   "metadata": {},
   "outputs": [],
   "source": [
    "with open(\"../data/results_appropriateness_oasis.jsonl\", \"w\", encoding=\"utf-8\") as outf:\n",
    "    for doc, gist_neut_single, gist_neut_two, neut_gist_single, neut_gist_two in zip(documents, gist_neutralize_single_prompt_responses, gist_neutralize_two_prompts_responses, neutralize_gist_single_prompt_responses, neutralize_gist_two_prompts_responses):\n",
    "        record = {}\n",
    "        record['document'] = doc\n",
    "        record['reference'] = \" \"\n",
    "        record['gist_neutralize_single_prompt'] = gist_neut_single\n",
    "        record['gist_neutralize_two_prompts'] = gist_neut_two\n",
    "        record['neutralize_gist_single_prompt'] = neut_gist_single\n",
    "        record['neutralize_gist_two_prompts'] = neut_gist_two\n",
    "        outf.write(json.dumps(record) + \"\\n\")"
   ]
  },
  {
   "cell_type": "markdown",
   "metadata": {},
   "source": [
    "#### Args.me Corpus"
   ]
  },
  {
   "cell_type": "markdown",
   "metadata": {},
   "source": [
    "**Summarization Results**"
   ]
  },
  {
   "cell_type": "code",
   "execution_count": null,
   "metadata": {},
   "outputs": [],
   "source": [
    "documents = []\n",
    "argsme_summaries = []\n",
    "llama_summaries = []\n",
    "bart_summaries = []"
   ]
  },
  {
   "cell_type": "code",
   "execution_count": null,
   "metadata": {},
   "outputs": [],
   "source": [
    "args_df = pd.read_csv(\"../data/inappropriate_arguments_sample_100_argsme.csv\")"
   ]
  },
  {
   "cell_type": "code",
   "execution_count": null,
   "metadata": {},
   "outputs": [],
   "source": [
    "args_df.count()"
   ]
  },
  {
   "cell_type": "code",
   "execution_count": null,
   "metadata": {},
   "outputs": [],
   "source": [
    "documents = args_df['argument'].tolist()\n",
    "args_snippets = args_df['snippet'].tolist()"
   ]
  },
  {
   "cell_type": "code",
   "execution_count": null,
   "metadata": {},
   "outputs": [],
   "source": [
    "len(documents), len(args_snippets)"
   ]
  },
  {
   "cell_type": "code",
   "execution_count": null,
   "metadata": {},
   "outputs": [],
   "source": [
    "llama_df = pd.read_csv(\"../data/results-by-corpus/argsme/summarization/llama.csv\", sep=\"\\t\", header=None)\n",
    "llama_df.columns = ['id', 'llama_gist']"
   ]
  },
  {
   "cell_type": "code",
   "execution_count": null,
   "metadata": {},
   "outputs": [],
   "source": [
    "llama_df.count()"
   ]
  },
  {
   "cell_type": "code",
   "execution_count": null,
   "metadata": {},
   "outputs": [],
   "source": [
    "llama_summaries = llama_df['llama_gist'].tolist()"
   ]
  },
  {
   "cell_type": "code",
   "execution_count": null,
   "metadata": {},
   "outputs": [],
   "source": [
    "bart_df = pd.read_csv(\"../data/results-by-corpus/argsme/summarization/bart.csv\")"
   ]
  },
  {
   "cell_type": "code",
   "execution_count": null,
   "metadata": {},
   "outputs": [],
   "source": [
    "bart_df.count()"
   ]
  },
  {
   "cell_type": "code",
   "execution_count": null,
   "metadata": {},
   "outputs": [],
   "source": [
    "bart_summaries = bart_df['bart_gist'].tolist()"
   ]
  },
  {
   "cell_type": "code",
   "execution_count": null,
   "metadata": {},
   "outputs": [],
   "source": [
    "len(documents), len(args_snippets), len(llama_summaries), len(bart_summaries)"
   ]
  },
  {
   "cell_type": "code",
   "execution_count": null,
   "metadata": {},
   "outputs": [],
   "source": [
    "with open(\"../data/results_argsme_summarization.jsonl\", \"w\", encoding=\"utf-8\") as outf:\n",
    "    for doc, snippet, llama, bart in zip(documents, args_snippets, llama_summaries, bart_summaries):\n",
    "        record = {}\n",
    "        record['document'] = doc\n",
    "        record['reference'] = snippet\n",
    "        record['llama_summary'] = llama\n",
    "        record['bart_summary'] = bart\n",
    "        outf.write(json.dumps(record) + \"\\n\")"
   ]
  },
  {
   "cell_type": "markdown",
   "metadata": {},
   "source": [
    "**Neutralization Results**"
   ]
  },
  {
   "cell_type": "code",
   "execution_count": null,
   "metadata": {},
   "outputs": [],
   "source": [
    "args_df = pd.read_csv(\"../data/inappropriate_arguments_sample_100_argsme.csv\")"
   ]
  },
  {
   "cell_type": "code",
   "execution_count": null,
   "metadata": {},
   "outputs": [],
   "source": [
    "args_df.count()"
   ]
  },
  {
   "cell_type": "code",
   "execution_count": null,
   "metadata": {},
   "outputs": [],
   "source": [
    "references = args_df['argument'].tolist()"
   ]
  },
  {
   "cell_type": "code",
   "execution_count": null,
   "metadata": {},
   "outputs": [],
   "source": [
    "len(references)"
   ]
  },
  {
   "cell_type": "code",
   "execution_count": null,
   "metadata": {},
   "outputs": [],
   "source": [
    "llam_ndf = pd.read_csv('../data/results-by-corpus/argsme/neutralization/llama.csv', sep=\"\\t\", header=None)\n",
    "llam_ndf.columns = ['id', 'llama_neutralization']"
   ]
  },
  {
   "cell_type": "code",
   "execution_count": null,
   "metadata": {},
   "outputs": [],
   "source": [
    "neutralized = llam_ndf['llama_neutralization'].tolist()"
   ]
  },
  {
   "cell_type": "code",
   "execution_count": null,
   "metadata": {},
   "outputs": [],
   "source": [
    "len(references), len(neutralized)"
   ]
  },
  {
   "cell_type": "code",
   "execution_count": null,
   "metadata": {},
   "outputs": [],
   "source": [
    "with open(\"../data/results_argsme_neutralization.jsonl\", \"w\", encoding=\"utf-8\") as outf:\n",
    "    for ref, neutral in zip(references, neutralized):\n",
    "        record = {}\n",
    "        record['reference'] = ref\n",
    "        record['neutralized'] = neutral\n",
    "        outf.write(json.dumps(record) + \"\\n\")"
   ]
  },
  {
   "cell_type": "markdown",
   "metadata": {},
   "source": [
    "**Summarize -> Neutralize (Single Prompt)**"
   ]
  },
  {
   "cell_type": "code",
   "execution_count": null,
   "metadata": {},
   "outputs": [],
   "source": [
    "args_df = pd.read_csv(\"../data/inappropriate_arguments_sample_100_argsme.csv\")\n",
    "documents = args_df['argument'].tolist()"
   ]
  },
  {
   "cell_type": "code",
   "execution_count": null,
   "metadata": {},
   "outputs": [],
   "source": [
    "single_prompt_both_df = pd.read_csv('../data/results-by-corpus/argsme/both/llama_extract_rewrite_argsme.csv', sep=\"\\t\", header=None)\n",
    "single_prompt_both_df.columns = ['id', 'llama_extract_rewrite']"
   ]
  },
  {
   "cell_type": "code",
   "execution_count": null,
   "metadata": {},
   "outputs": [],
   "source": [
    "gist_neutralize_single_prompt_responses = single_prompt_both_df['llama_extract_rewrite'].tolist()"
   ]
  },
  {
   "cell_type": "markdown",
   "metadata": {},
   "source": [
    "**Summarize -> Neutralize (Individual Prompts)**"
   ]
  },
  {
   "cell_type": "code",
   "execution_count": null,
   "metadata": {},
   "outputs": [],
   "source": [
    "two_prompts_df = pd.read_csv('../data/results-by-corpus/argsme/both/llama_extract_then_rewrite_argsme.csv', sep=\"\\t\", header=None)\n",
    "two_prompts_df.columns = ['id', 'llama_extract_then_rewrite']"
   ]
  },
  {
   "cell_type": "code",
   "execution_count": null,
   "metadata": {},
   "outputs": [],
   "source": [
    "gist_neutralize_two_prompts_responses = two_prompts_df['llama_extract_then_rewrite'].tolist()"
   ]
  },
  {
   "cell_type": "markdown",
   "metadata": {},
   "source": [
    "**Neutralize -> Summarize (Single Prompt)**"
   ]
  },
  {
   "cell_type": "code",
   "execution_count": null,
   "metadata": {},
   "outputs": [],
   "source": [
    "swap_order_single_prompt_df = pd.read_csv('../data/results-by-corpus/argsme/both/llama_rewrite_extract_argsme.csv', sep=\"\\t\", header=None)\n",
    "swap_order_single_prompt_df.columns = ['id', 'llama_rewrite_extract']"
   ]
  },
  {
   "cell_type": "code",
   "execution_count": null,
   "metadata": {},
   "outputs": [],
   "source": [
    "neutralize_gist_single_prompt_responses = swap_order_single_prompt_df['llama_rewrite_extract'].tolist()"
   ]
  },
  {
   "cell_type": "markdown",
   "metadata": {},
   "source": [
    "**Neutralize -> Summarize (Individual Prompts)**"
   ]
  },
  {
   "cell_type": "code",
   "execution_count": null,
   "metadata": {},
   "outputs": [],
   "source": [
    "swap_order_two_prompts_df = pd.read_csv('../data/results-by-corpus/argsme/both/llama_rewrite_then_extract_argsme.csv', sep=\"\\t\", header=None)\n",
    "swap_order_two_prompts_df.columns = ['id', 'llama_rewrite_then_extract']"
   ]
  },
  {
   "cell_type": "code",
   "execution_count": null,
   "metadata": {},
   "outputs": [],
   "source": [
    "neutralize_gist_two_prompts_responses = swap_order_two_prompts_df['llama_rewrite_then_extract'].tolist()"
   ]
  },
  {
   "cell_type": "code",
   "execution_count": null,
   "metadata": {},
   "outputs": [],
   "source": [
    "with open(\"../data/results_argsme_oasis.jsonl\", \"w\", encoding=\"utf-8\") as outf:\n",
    "    for doc, gist_neut_single, gist_neut_two, neut_gist_single, neut_gist_two in zip(documents, gist_neutralize_single_prompt_responses, gist_neutralize_two_prompts_responses, neutralize_gist_single_prompt_responses, neutralize_gist_two_prompts_responses):\n",
    "        record = {}\n",
    "        record['document'] = doc\n",
    "        record['reference'] = \" \"\n",
    "        record['gist_neutralize_single_prompt'] = gist_neut_single\n",
    "        record['gist_neutralize_two_prompts'] = gist_neut_two\n",
    "        record['neutralize_gist_single_prompt'] = neut_gist_single\n",
    "        record['neutralize_gist_two_prompts'] = neut_gist_two\n",
    "        outf.write(json.dumps(record) + \"\\n\")"
   ]
  },
  {
   "cell_type": "code",
   "execution_count": null,
   "metadata": {},
   "outputs": [],
   "source": []
  }
 ],
 "metadata": {
  "kernelspec": {
   "display_name": "oasis",
   "language": "python",
   "name": "python3"
  },
  "language_info": {
   "codemirror_mode": {
    "name": "ipython",
    "version": 3
   },
   "file_extension": ".py",
   "mimetype": "text/x-python",
   "name": "python",
   "nbconvert_exporter": "python",
   "pygments_lexer": "ipython3",
   "version": "3.11.1"
  }
 },
 "nbformat": 4,
 "nbformat_minor": 2
}
