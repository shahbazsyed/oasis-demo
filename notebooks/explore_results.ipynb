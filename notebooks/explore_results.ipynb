{
 "cells": [
  {
   "cell_type": "code",
   "execution_count": 26,
   "metadata": {},
   "outputs": [],
   "source": [
    "import pandas as pd\n",
    "pd.set_option('display.max_colwidth', None)\n",
    "from tqdm import tqdm\n",
    "tqdm.pandas()\n",
    "from glob import glob\n",
    "import json"
   ]
  },
  {
   "cell_type": "markdown",
   "metadata": {},
   "source": [
    "#### Appropriateness Corpus"
   ]
  },
  {
   "cell_type": "markdown",
   "metadata": {},
   "source": [
    "**Summarization Results**"
   ]
  },
  {
   "cell_type": "code",
   "execution_count": 27,
   "metadata": {},
   "outputs": [],
   "source": [
    "documents = []\n",
    "llama_summaries = []\n",
    "bart_summaries = []"
   ]
  },
  {
   "cell_type": "code",
   "execution_count": 28,
   "metadata": {},
   "outputs": [],
   "source": [
    "app_df = pd.read_csv('../data/inappropriate_arguments_sample_100_appropriateness.csv')"
   ]
  },
  {
   "cell_type": "code",
   "execution_count": 29,
   "metadata": {},
   "outputs": [],
   "source": [
    "llama_df = pd.read_csv('../data/results-by-corpus/appropriateness/summarization/llama.csv', sep=\"\\t\", header=None)\n",
    "llama_df.columns = ['id', 'llama_gist']"
   ]
  },
  {
   "cell_type": "code",
   "execution_count": 30,
   "metadata": {},
   "outputs": [],
   "source": [
    "bart_df = pd.read_csv('../data/results-by-corpus/appropriateness/summarization/bart.csv')"
   ]
  },
  {
   "cell_type": "code",
   "execution_count": 31,
   "metadata": {},
   "outputs": [
    {
     "data": {
      "text/plain": [
       "issue                 100\n",
       "argument              100\n",
       "Reasons               100\n",
       "word_count            100\n",
       "supervised_summary    100\n",
       "dtype: int64"
      ]
     },
     "execution_count": 31,
     "metadata": {},
     "output_type": "execute_result"
    }
   ],
   "source": [
    "bart_df.count()"
   ]
  },
  {
   "cell_type": "code",
   "execution_count": 32,
   "metadata": {},
   "outputs": [],
   "source": [
    "documents = bart_df['argument'].tolist()\n",
    "llama_summaries = llama_df['llama_gist'].tolist()\n",
    "bart_summaries = bart_df['supervised_summary'].tolist()"
   ]
  },
  {
   "cell_type": "code",
   "execution_count": 33,
   "metadata": {},
   "outputs": [
    {
     "data": {
      "text/plain": [
       "(100, 100, 100)"
      ]
     },
     "execution_count": 33,
     "metadata": {},
     "output_type": "execute_result"
    }
   ],
   "source": [
    "len(documents), len(llama_summaries), len(bart_summaries)"
   ]
  },
  {
   "cell_type": "code",
   "execution_count": 34,
   "metadata": {},
   "outputs": [],
   "source": [
    "app_summary_records = []\n",
    "for doc, llama, bart in zip(documents, llama_summaries, bart_summaries):\n",
    "    record = {}\n",
    "    record['document'] = doc\n",
    "    record['reference'] = \" \" \n",
    "    record['llama_summary'] = llama\n",
    "    record['bart_summary'] = bart\n",
    "    app_summary_records.append(record)"
   ]
  },
  {
   "cell_type": "code",
   "execution_count": 35,
   "metadata": {},
   "outputs": [
    {
     "data": {
      "text/plain": [
       "100"
      ]
     },
     "execution_count": 35,
     "metadata": {},
     "output_type": "execute_result"
    }
   ],
   "source": [
    "len(app_summary_records)"
   ]
  },
  {
   "cell_type": "code",
   "execution_count": 36,
   "metadata": {},
   "outputs": [],
   "source": [
    "import json\n",
    "with open(\"../data/results_appropriateness_summarization.jsonl\", \"w\", encoding=\"utf-8\") as outf:\n",
    "    for record in app_summary_records:\n",
    "        outf.write(json.dumps(record) + \"\\n\")\n"
   ]
  },
  {
   "cell_type": "markdown",
   "metadata": {},
   "source": [
    "**Neutralization Results**"
   ]
  },
  {
   "cell_type": "code",
   "execution_count": 64,
   "metadata": {},
   "outputs": [
    {
     "data": {
      "text/plain": [
       "issue         100\n",
       "argument      100\n",
       "Reasons       100\n",
       "word_count    100\n",
       "dtype: int64"
      ]
     },
     "execution_count": 64,
     "metadata": {},
     "output_type": "execute_result"
    }
   ],
   "source": [
    "app_df.count()"
   ]
  },
  {
   "cell_type": "code",
   "execution_count": 65,
   "metadata": {},
   "outputs": [],
   "source": [
    "references = app_df['argument'].tolist()"
   ]
  },
  {
   "cell_type": "code",
   "execution_count": 66,
   "metadata": {},
   "outputs": [],
   "source": [
    "llam_ndf = pd.read_csv('../data/results-by-corpus/appropriateness/neutralization/llama.csv', sep=\"\\t\", header=None)\n",
    "llam_ndf.columns = ['id', 'llama_neutralization']"
   ]
  },
  {
   "cell_type": "code",
   "execution_count": 67,
   "metadata": {},
   "outputs": [],
   "source": [
    "llam_ndf_ppo_04a_06ss = pd.read_csv('../data/results-by-corpus/appropriateness/neutralization/llama_ppo_rewrite_appropriateness_llama-7b-harmonic-mean-04a-06ss.csv', sep=\"\\t\", header=None)\n",
    "llam_ndf_ppo_04a_06ss.columns = ['id', 'llama_neutralization']"
   ]
  },
  {
   "cell_type": "code",
   "execution_count": 68,
   "metadata": {},
   "outputs": [],
   "source": [
    "llam_ndf_ppo_045a_055ss = pd.read_csv('../data/results-by-corpus/appropriateness/neutralization/llama_ppo_rewrite_appropriateness_llama-7b-harmonic-mean-045a-055ss.csv', sep=\"\\t\", header=None)\n",
    "llam_ndf_ppo_045a_055ss.columns = ['id', 'llama_neutralization']"
   ]
  },
  {
   "cell_type": "code",
   "execution_count": 69,
   "metadata": {},
   "outputs": [],
   "source": [
    "llam_ndf_ppo_05a_05ss = pd.read_csv('../data/results-by-corpus/appropriateness/neutralization/llama_ppo_rewrite_appropriateness_llama-7b-harmonic-mean-05a-05ss.csv', sep=\"\\t\", header=None)\n",
    "llam_ndf_ppo_05a_05ss.columns = ['id', 'llama_neutralization']"
   ]
  },
  {
   "cell_type": "code",
   "execution_count": 70,
   "metadata": {},
   "outputs": [],
   "source": [
    "llam_ndf_ppo_055a_045ss = pd.read_csv('../data/results-by-corpus/appropriateness/neutralization/llama_ppo_rewrite_appropriateness_llama-7b-harmonic-mean-055a-045ss.csv', sep=\"\\t\", header=None)\n",
    "llam_ndf_ppo_055a_045ss.columns = ['id', 'llama_neutralization']"
   ]
  },
  {
   "cell_type": "code",
   "execution_count": 71,
   "metadata": {},
   "outputs": [],
   "source": [
    "llam_ndf_ppo_06a_04ss = pd.read_csv('../data/results-by-corpus/appropriateness/neutralization/llama_ppo_rewrite_appropriateness_llama-7b-harmonic-mean-06a-04ss.csv', sep=\"\\t\", header=None)\n",
    "llam_ndf_ppo_06a_04ss.columns = ['id', 'llama_neutralization']"
   ]
  },
  {
   "cell_type": "code",
   "execution_count": 72,
   "metadata": {},
   "outputs": [],
   "source": [
    "llam_ndf_ppo_10a_00ss = pd.read_csv('../data/results-by-corpus/appropriateness/neutralization/llama_ppo_rewrite_appropriateness_llama-7b-harmonic-mean-10a-00ss.csv', sep=\"\\t\", header=None)\n",
    "llam_ndf_ppo_10a_00ss.columns = ['id', 'llama_neutralization']"
   ]
  },
  {
   "cell_type": "code",
   "execution_count": 73,
   "metadata": {},
   "outputs": [
    {
     "data": {
      "text/plain": [
       "id                      100\n",
       "llama_neutralization    100\n",
       "dtype: int64"
      ]
     },
     "execution_count": 73,
     "metadata": {},
     "output_type": "execute_result"
    }
   ],
   "source": [
    "llam_ndf.count()"
   ]
  },
  {
   "cell_type": "code",
   "execution_count": 80,
   "metadata": {},
   "outputs": [],
   "source": [
    "neutralized = llam_ndf['llama_neutralization'].tolist()\n",
    "neutralized_ppo_04a_06ss = llam_ndf_ppo_04a_06ss['llama_neutralization'].tolist()\n",
    "neutralized_ppo_045a_055ss = llam_ndf_ppo_045a_055ss['llama_neutralization'].tolist()\n",
    "neutralized_ppo_05a_05ss = llam_ndf_ppo_05a_05ss['llama_neutralization'].tolist()\n",
    "neutralized_ppo_055a_045ss = llam_ndf_ppo_055a_045ss['llama_neutralization'].tolist()\n",
    "neutralized_ppo_06a_04ss = llam_ndf_ppo_06a_04ss['llama_neutralization'].tolist()\n",
    "neutralized_ppo_10a_00ss = llam_ndf_ppo_10a_00ss['llama_neutralization'].tolist()"
   ]
  },
  {
   "cell_type": "code",
   "execution_count": 81,
   "metadata": {},
   "outputs": [
    {
     "data": {
      "text/plain": [
       "(100, 100)"
      ]
     },
     "execution_count": 81,
     "metadata": {},
     "output_type": "execute_result"
    }
   ],
   "source": [
    "len(references), len(neutralized)"
   ]
  },
  {
   "cell_type": "code",
   "execution_count": 82,
   "metadata": {},
   "outputs": [],
   "source": [
    "records = []\n",
    "for ref, neutral, neutral_ppo_045a_055ss, neutral_ppo_04a_06ss, neutral_ppo_10a_00ss, neutral_ppo_06a_04ss, neutral_ppo_05a_05ss, neutral_ppo_055a_045ss in zip(references, neutralized, neutralized_ppo_045a_055ss, neutralized_ppo_04a_06ss, neutralized_ppo_10a_00ss, neutralized_ppo_06a_04ss, neutralized_ppo_05a_05ss, neutralized_ppo_055a_045ss):\n",
    "    record = {}\n",
    "    record['reference'] = ref\n",
    "    record['neutralized_ppo_040a_060ss'] = neutral_ppo_04a_06ss\n",
    "    record['neutralized_ppo_045a_055ss'] = neutral_ppo_045a_055ss\n",
    "    record['neutralized'] = neutral\n",
    "    record['neutralized_ppo_050a_050ss'] = neutral_ppo_05a_05ss\n",
    "    record['neutralized_ppo_055a_045ss'] = neutral_ppo_055a_045ss\n",
    "    record['neutralized_ppo_060a_040ss'] = neutral_ppo_06a_04ss\n",
    "    record['neutralized_ppo_100a_000ss'] = neutral_ppo_10a_00ss\n",
    "\n",
    "    records.append(record)\n",
    "\n",
    "with open(\"../data/results_appropriateness_neutralization.jsonl\", \"w\", encoding=\"utf-8\") as outf:\n",
    "    for record in records:\n",
    "        outf.write(json.dumps(record) + \"\\n\")"
   ]
  },
  {
   "cell_type": "markdown",
   "metadata": {},
   "source": [
    "**Summarize -> Neutralize (Single prompt)**"
   ]
  },
  {
   "cell_type": "code",
   "execution_count": null,
   "metadata": {},
   "outputs": [],
   "source": [
    "app_df = pd.read_csv('../data/inappropriate_arguments_sample_100_appropriateness.csv')"
   ]
  },
  {
   "cell_type": "code",
   "execution_count": null,
   "metadata": {},
   "outputs": [],
   "source": [
    "documents = app_df['argument'].tolist()"
   ]
  },
  {
   "cell_type": "code",
   "execution_count": null,
   "metadata": {},
   "outputs": [],
   "source": [
    "single_prompt_both_df = pd.read_csv('../data/results-by-corpus/appropriateness/both/llama_extract_rewrite_appropriateness.csv', sep=\"\\t\", header=None)\n",
    "single_prompt_both_df.columns = ['id', 'llama_extract_rewrite']"
   ]
  },
  {
   "cell_type": "code",
   "execution_count": null,
   "metadata": {},
   "outputs": [],
   "source": [
    "gist_neutralize_single_prompt_responses = single_prompt_both_df['llama_extract_rewrite'].tolist()"
   ]
  },
  {
   "cell_type": "markdown",
   "metadata": {},
   "source": [
    "**Summarize -> Neutralize (Individual Prompts)**"
   ]
  },
  {
   "cell_type": "code",
   "execution_count": null,
   "metadata": {},
   "outputs": [],
   "source": [
    "two_prompts_df = pd.read_csv('../data/results-by-corpus/appropriateness/both/llama_extract_then_rewrite_appropriateness.csv', sep=\"\\t\", header=None)\n",
    "two_prompts_df.columns = ['id', 'llama_extract_then_rewrite']"
   ]
  },
  {
   "cell_type": "code",
   "execution_count": null,
   "metadata": {},
   "outputs": [],
   "source": [
    "gist_neutralize_two_prompts_responses = two_prompts_df['llama_extract_then_rewrite'].tolist()"
   ]
  },
  {
   "cell_type": "markdown",
   "metadata": {},
   "source": [
    "**Neutralize -> Summarize (Single Prompt)**"
   ]
  },
  {
   "cell_type": "code",
   "execution_count": null,
   "metadata": {},
   "outputs": [],
   "source": [
    "swap_order_single_prompt_df = pd.read_csv('../data/results-by-corpus/appropriateness/both/llama_rewrite_extract_appropriateness.csv', sep=\"\\t\", header=None)\n",
    "swap_order_single_prompt_df.columns = ['id', 'llama_rewrite_extract']"
   ]
  },
  {
   "cell_type": "code",
   "execution_count": null,
   "metadata": {},
   "outputs": [],
   "source": [
    "neutralize_gist_single_prompt_responses = swap_order_single_prompt_df['llama_rewrite_extract'].tolist()"
   ]
  },
  {
   "cell_type": "markdown",
   "metadata": {},
   "source": [
    "**Neutralize -> Summarize (Individual Prompts)**"
   ]
  },
  {
   "cell_type": "code",
   "execution_count": null,
   "metadata": {},
   "outputs": [],
   "source": [
    "swap_order_two_prompts_df = pd.read_csv('../data/results-by-corpus/appropriateness/both/llama_rewrite_then_extract_appropriateness.csv', sep=\"\\t\", header=None)\n",
    "swap_order_two_prompts_df.columns = ['id', 'llama_rewrite_then_extract']"
   ]
  },
  {
   "cell_type": "code",
   "execution_count": null,
   "metadata": {},
   "outputs": [],
   "source": [
    "neutralize_gist_two_prompts_responses = swap_order_two_prompts_df['llama_rewrite_then_extract'].tolist()"
   ]
  },
  {
   "cell_type": "code",
   "execution_count": null,
   "metadata": {},
   "outputs": [],
   "source": [
    "len(documents), len(gist_neutralize_single_prompt_responses), len(gist_neutralize_two_prompts_responses), len(neutralize_gist_single_prompt_responses), len(neutralize_gist_two_prompts_responses)"
   ]
  },
  {
   "cell_type": "code",
   "execution_count": null,
   "metadata": {},
   "outputs": [],
   "source": [
    "with open(\"../data/results_appropriateness_oasis.jsonl\", \"w\", encoding=\"utf-8\") as outf:\n",
    "    for doc, gist_neut_single, gist_neut_two, neut_gist_single, neut_gist_two in zip(documents, gist_neutralize_single_prompt_responses, gist_neutralize_two_prompts_responses, neutralize_gist_single_prompt_responses, neutralize_gist_two_prompts_responses):\n",
    "        record = {}\n",
    "        record['document'] = doc\n",
    "        record['reference'] = \" \"\n",
    "        record['gist_neutralize_single_prompt'] = gist_neut_single\n",
    "        record['gist_neutralize_two_prompts'] = gist_neut_two\n",
    "        record['neutralize_gist_single_prompt'] = neut_gist_single\n",
    "        record['neutralize_gist_two_prompts'] = neut_gist_two\n",
    "        outf.write(json.dumps(record) + \"\\n\")"
   ]
  },
  {
   "cell_type": "markdown",
   "metadata": {},
   "source": [
    "#### Args.me Corpus"
   ]
  },
  {
   "cell_type": "markdown",
   "metadata": {},
   "source": [
    "**Summarization Results**"
   ]
  },
  {
   "cell_type": "code",
   "execution_count": null,
   "metadata": {},
   "outputs": [],
   "source": [
    "documents = []\n",
    "argsme_summaries = []\n",
    "llama_summaries = []\n",
    "bart_summaries = []"
   ]
  },
  {
   "cell_type": "code",
   "execution_count": null,
   "metadata": {},
   "outputs": [],
   "source": [
    "args_df = pd.read_csv(\"../data/inappropriate_arguments_sample_100_argsme.csv\")"
   ]
  },
  {
   "cell_type": "code",
   "execution_count": null,
   "metadata": {},
   "outputs": [],
   "source": [
    "args_df.count()"
   ]
  },
  {
   "cell_type": "code",
   "execution_count": null,
   "metadata": {},
   "outputs": [],
   "source": [
    "documents = args_df['argument'].tolist()\n",
    "args_snippets = args_df['snippet'].tolist()"
   ]
  },
  {
   "cell_type": "code",
   "execution_count": null,
   "metadata": {},
   "outputs": [],
   "source": [
    "len(documents), len(args_snippets)"
   ]
  },
  {
   "cell_type": "code",
   "execution_count": null,
   "metadata": {},
   "outputs": [],
   "source": [
    "llama_df = pd.read_csv(\"../data/results-by-corpus/argsme/summarization/llama.csv\", sep=\"\\t\", header=None)\n",
    "llama_df.columns = ['id', 'llama_gist']"
   ]
  },
  {
   "cell_type": "code",
   "execution_count": null,
   "metadata": {},
   "outputs": [],
   "source": [
    "llama_df.count()"
   ]
  },
  {
   "cell_type": "code",
   "execution_count": null,
   "metadata": {},
   "outputs": [],
   "source": [
    "llama_summaries = llama_df['llama_gist'].tolist()"
   ]
  },
  {
   "cell_type": "code",
   "execution_count": null,
   "metadata": {},
   "outputs": [],
   "source": [
    "bart_df = pd.read_csv(\"../data/results-by-corpus/argsme/summarization/bart.csv\")"
   ]
  },
  {
   "cell_type": "code",
   "execution_count": null,
   "metadata": {},
   "outputs": [],
   "source": [
    "bart_df.count()"
   ]
  },
  {
   "cell_type": "code",
   "execution_count": null,
   "metadata": {},
   "outputs": [],
   "source": [
    "bart_summaries = bart_df['bart_gist'].tolist()"
   ]
  },
  {
   "cell_type": "code",
   "execution_count": null,
   "metadata": {},
   "outputs": [],
   "source": [
    "len(documents), len(args_snippets), len(llama_summaries), len(bart_summaries)"
   ]
  },
  {
   "cell_type": "code",
   "execution_count": null,
   "metadata": {},
   "outputs": [],
   "source": [
    "with open(\"../data/results_argsme_summarization.jsonl\", \"w\", encoding=\"utf-8\") as outf:\n",
    "    for doc, snippet, llama, bart in zip(documents, args_snippets, llama_summaries, bart_summaries):\n",
    "        record = {}\n",
    "        record['document'] = doc\n",
    "        record['reference'] = snippet\n",
    "        record['llama_summary'] = llama\n",
    "        record['bart_summary'] = bart\n",
    "        outf.write(json.dumps(record) + \"\\n\")"
   ]
  },
  {
   "cell_type": "markdown",
   "metadata": {},
   "source": [
    "**Neutralization Results**"
   ]
  },
  {
   "cell_type": "code",
   "execution_count": null,
   "metadata": {},
   "outputs": [],
   "source": [
    "args_df = pd.read_csv(\"../data/inappropriate_arguments_sample_100_argsme.csv\")"
   ]
  },
  {
   "cell_type": "code",
   "execution_count": null,
   "metadata": {},
   "outputs": [],
   "source": [
    "args_df.count()"
   ]
  },
  {
   "cell_type": "code",
   "execution_count": null,
   "metadata": {},
   "outputs": [],
   "source": [
    "references = args_df['argument'].tolist()"
   ]
  },
  {
   "cell_type": "code",
   "execution_count": null,
   "metadata": {},
   "outputs": [],
   "source": [
    "len(references)"
   ]
  },
  {
   "cell_type": "code",
   "execution_count": null,
   "metadata": {},
   "outputs": [],
   "source": [
    "llam_ndf = pd.read_csv('../data/results-by-corpus/argsme/neutralization/llama.csv', sep=\"\\t\", header=None)\n",
    "llam_ndf.columns = ['id', 'llama_neutralization']"
   ]
  },
  {
   "cell_type": "code",
   "execution_count": null,
   "metadata": {},
   "outputs": [],
   "source": [
    "neutralized = llam_ndf['llama_neutralization'].tolist()"
   ]
  },
  {
   "cell_type": "code",
   "execution_count": null,
   "metadata": {},
   "outputs": [],
   "source": [
    "len(references), len(neutralized)"
   ]
  },
  {
   "cell_type": "code",
   "execution_count": null,
   "metadata": {},
   "outputs": [],
   "source": [
    "with open(\"../data/results_argsme_neutralization.jsonl\", \"w\", encoding=\"utf-8\") as outf:\n",
    "    for ref, neutral in zip(references, neutralized):\n",
    "        record = {}\n",
    "        record['reference'] = ref\n",
    "        record['neutralized'] = neutral\n",
    "        outf.write(json.dumps(record) + \"\\n\")"
   ]
  },
  {
   "cell_type": "markdown",
   "metadata": {},
   "source": [
    "**Summarize -> Neutralize (Single Prompt)**"
   ]
  },
  {
   "cell_type": "code",
   "execution_count": null,
   "metadata": {},
   "outputs": [],
   "source": [
    "args_df = pd.read_csv(\"../data/inappropriate_arguments_sample_100_argsme.csv\")\n",
    "documents = args_df['argument'].tolist()"
   ]
  },
  {
   "cell_type": "code",
   "execution_count": null,
   "metadata": {},
   "outputs": [],
   "source": [
    "single_prompt_both_df = pd.read_csv('../data/results-by-corpus/argsme/both/llama_extract_rewrite_argsme.csv', sep=\"\\t\", header=None)\n",
    "single_prompt_both_df.columns = ['id', 'llama_extract_rewrite']"
   ]
  },
  {
   "cell_type": "code",
   "execution_count": null,
   "metadata": {},
   "outputs": [],
   "source": [
    "gist_neutralize_single_prompt_responses = single_prompt_both_df['llama_extract_rewrite'].tolist()"
   ]
  },
  {
   "cell_type": "markdown",
   "metadata": {},
   "source": [
    "**Summarize -> Neutralize (Individual Prompts)**"
   ]
  },
  {
   "cell_type": "code",
   "execution_count": null,
   "metadata": {},
   "outputs": [],
   "source": [
    "two_prompts_df = pd.read_csv('../data/results-by-corpus/argsme/both/llama_extract_then_rewrite_argsme.csv', sep=\"\\t\", header=None)\n",
    "two_prompts_df.columns = ['id', 'llama_extract_then_rewrite']"
   ]
  },
  {
   "cell_type": "code",
   "execution_count": null,
   "metadata": {},
   "outputs": [],
   "source": [
    "gist_neutralize_two_prompts_responses = two_prompts_df['llama_extract_then_rewrite'].tolist()"
   ]
  },
  {
   "cell_type": "markdown",
   "metadata": {},
   "source": [
    "**Neutralize -> Summarize (Single Prompt)**"
   ]
  },
  {
   "cell_type": "code",
   "execution_count": null,
   "metadata": {},
   "outputs": [],
   "source": [
    "swap_order_single_prompt_df = pd.read_csv('../data/results-by-corpus/argsme/both/llama_rewrite_extract_argsme.csv', sep=\"\\t\", header=None)\n",
    "swap_order_single_prompt_df.columns = ['id', 'llama_rewrite_extract']"
   ]
  },
  {
   "cell_type": "code",
   "execution_count": null,
   "metadata": {},
   "outputs": [],
   "source": [
    "neutralize_gist_single_prompt_responses = swap_order_single_prompt_df['llama_rewrite_extract'].tolist()"
   ]
  },
  {
   "cell_type": "markdown",
   "metadata": {},
   "source": [
    "**Neutralize -> Summarize (Individual Prompts)**"
   ]
  },
  {
   "cell_type": "code",
   "execution_count": null,
   "metadata": {},
   "outputs": [],
   "source": [
    "swap_order_two_prompts_df = pd.read_csv('../data/results-by-corpus/argsme/both/llama_rewrite_then_extract_argsme.csv', sep=\"\\t\", header=None)\n",
    "swap_order_two_prompts_df.columns = ['id', 'llama_rewrite_then_extract']"
   ]
  },
  {
   "cell_type": "code",
   "execution_count": null,
   "metadata": {},
   "outputs": [],
   "source": [
    "neutralize_gist_two_prompts_responses = swap_order_two_prompts_df['llama_rewrite_then_extract'].tolist()"
   ]
  },
  {
   "cell_type": "code",
   "execution_count": null,
   "metadata": {},
   "outputs": [],
   "source": [
    "with open(\"../data/results_argsme_oasis.jsonl\", \"w\", encoding=\"utf-8\") as outf:\n",
    "    for doc, gist_neut_single, gist_neut_two, neut_gist_single, neut_gist_two in zip(documents, gist_neutralize_single_prompt_responses, gist_neutralize_two_prompts_responses, neutralize_gist_single_prompt_responses, neutralize_gist_two_prompts_responses):\n",
    "        record = {}\n",
    "        record['document'] = doc\n",
    "        record['reference'] = \" \"\n",
    "        record['gist_neutralize_single_prompt'] = gist_neut_single\n",
    "        record['gist_neutralize_two_prompts'] = gist_neut_two\n",
    "        record['neutralize_gist_single_prompt'] = neut_gist_single\n",
    "        record['neutralize_gist_two_prompts'] = neut_gist_two\n",
    "        outf.write(json.dumps(record) + \"\\n\")"
   ]
  },
  {
   "cell_type": "code",
   "execution_count": null,
   "metadata": {},
   "outputs": [],
   "source": []
  }
 ],
 "metadata": {
  "kernelspec": {
   "display_name": "Python 3 (ipykernel)",
   "language": "python",
   "name": "python3"
  },
  "language_info": {
   "codemirror_mode": {
    "name": "ipython",
    "version": 3
   },
   "file_extension": ".py",
   "mimetype": "text/x-python",
   "name": "python",
   "nbconvert_exporter": "python",
   "pygments_lexer": "ipython3",
   "version": "3.10.12"
  }
 },
 "nbformat": 4,
 "nbformat_minor": 4
}
